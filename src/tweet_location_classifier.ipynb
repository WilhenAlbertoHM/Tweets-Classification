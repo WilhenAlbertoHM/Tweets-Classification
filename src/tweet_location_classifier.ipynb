{
 "cells": [
  {
   "cell_type": "markdown",
   "id": "b2f711bb-72c0-4856-8206-28cfb6067e38",
   "metadata": {},
   "source": [
    "# Tweet Location Classifier\n",
    "Create a Naive Bayes classifier to classify any tweet and predict whether a given tweet came from New York, London, or Paris."
   ]
  },
  {
   "cell_type": "markdown",
   "id": "22aa7ae6-0d39-49f0-b624-46cdff412510",
   "metadata": {},
   "source": [
    "## Revise tweets coming from New York, London, and Paris"
   ]
  },
  {
   "cell_type": "code",
   "execution_count": 5,
   "id": "2a026d4c-1e64-4818-860e-04ec166f83fb",
   "metadata": {
    "tags": []
   },
   "outputs": [
    {
     "name": "stdout",
     "output_type": "stream",
     "text": [
      "Printing the first 5 rows for New York tweets...\n",
      "                 created_at                   id               id_str  \\\n",
      "0 2018-07-26 13:32:33+00:00  1022474755625164800  1022474755625164800   \n",
      "1 2018-07-26 13:32:34+00:00  1022474762491183104  1022474762491183104   \n",
      "2 2018-07-26 13:32:35+00:00  1022474765750226945  1022474765750226944   \n",
      "3 2018-07-26 13:32:36+00:00  1022474768736546816  1022474768736546816   \n",
      "4 2018-07-26 13:32:36+00:00  1022474769260838913  1022474769260838912   \n",
      "\n",
      "                                                text display_text_range  \\\n",
      "0                   @DelgadoforNY19 Calendar marked.           [16, 32]   \n",
      "1    petition to ban more than one spritz of cologne                NaN   \n",
      "2  People really be making up beef with you in th...                NaN   \n",
      "3  30 years old.. wow what a journey... I moved t...                NaN   \n",
      "4  At first glance it looked like asparagus with ...                NaN   \n",
      "\n",
      "                                              source  truncated  \\\n",
      "0  <a href=\"http://twitter.com/download/android\" ...      False   \n",
      "1  <a href=\"http://twitter.com/download/iphone\" r...      False   \n",
      "2  <a href=\"http://twitter.com/download/iphone\" r...      False   \n",
      "3  <a href=\"http://instagram.com\" rel=\"nofollow\">...       True   \n",
      "4  <a href=\"http://twitter.com/download/iphone\" r...       True   \n",
      "\n",
      "   in_reply_to_status_id  in_reply_to_status_id_str  in_reply_to_user_id  ...  \\\n",
      "0           1.022208e+18               1.022208e+18         8.290618e+17  ...   \n",
      "1                    NaN                        NaN                  NaN  ...   \n",
      "2                    NaN                        NaN                  NaN  ...   \n",
      "3                    NaN                        NaN                  NaN  ...   \n",
      "4                    NaN                        NaN                  NaN  ...   \n",
      "\n",
      "   lang            timestamp_ms  \\\n",
      "0    en 2018-07-26 13:32:33.060   \n",
      "1    en 2018-07-26 13:32:34.697   \n",
      "2    en 2018-07-26 13:32:35.474   \n",
      "3    en 2018-07-26 13:32:36.186   \n",
      "4    en 2018-07-26 13:32:36.311   \n",
      "\n",
      "                                      extended_tweet possibly_sensitive  \\\n",
      "0                                                NaN                NaN   \n",
      "1                                                NaN                NaN   \n",
      "2                                                NaN                NaN   \n",
      "3  {'full_text': '30 years old.. wow what a journ...                0.0   \n",
      "4  {'full_text': 'At first glance it looked like ...                NaN   \n",
      "\n",
      "  quoted_status_id quoted_status_id_str  quoted_status  \\\n",
      "0              NaN                  NaN            NaN   \n",
      "1              NaN                  NaN            NaN   \n",
      "2              NaN                  NaN            NaN   \n",
      "3              NaN                  NaN            NaN   \n",
      "4              NaN                  NaN            NaN   \n",
      "\n",
      "   quoted_status_permalink  extended_entities  withheld_in_countries  \n",
      "0                      NaN                NaN                    NaN  \n",
      "1                      NaN                NaN                    NaN  \n",
      "2                      NaN                NaN                    NaN  \n",
      "3                      NaN                NaN                    NaN  \n",
      "4                      NaN                NaN                    NaN  \n",
      "\n",
      "[5 rows x 36 columns]\n",
      "\n",
      "Number of tweets: 4723\n",
      "\n",
      "Columns: Index(['created_at', 'id', 'id_str', 'text', 'display_text_range', 'source',\n",
      "       'truncated', 'in_reply_to_status_id', 'in_reply_to_status_id_str',\n",
      "       'in_reply_to_user_id', 'in_reply_to_user_id_str',\n",
      "       'in_reply_to_screen_name', 'user', 'geo', 'coordinates', 'place',\n",
      "       'contributors', 'is_quote_status', 'quote_count', 'reply_count',\n",
      "       'retweet_count', 'favorite_count', 'entities', 'favorited', 'retweeted',\n",
      "       'filter_level', 'lang', 'timestamp_ms', 'extended_tweet',\n",
      "       'possibly_sensitive', 'quoted_status_id', 'quoted_status_id_str',\n",
      "       'quoted_status', 'quoted_status_permalink', 'extended_entities',\n",
      "       'withheld_in_countries'],\n",
      "      dtype='object')\n",
      "==============================================================================================================================================\n",
      "Printing the first 5 rows for London tweets...\n",
      "                 created_at                   id               id_str  \\\n",
      "0 2018-07-26 13:39:30+00:00  1022476504855400449  1022476504855400448   \n",
      "1 2018-07-26 13:39:30+00:00  1022476506075942912  1022476506075942912   \n",
      "2 2018-07-26 13:39:31+00:00  1022476510089949190  1022476510089949184   \n",
      "3 2018-07-26 13:39:33+00:00  1022476519845883905  1022476519845883904   \n",
      "4 2018-07-26 13:39:36+00:00  1022476532684648448  1022476532684648448   \n",
      "\n",
      "                                                text display_text_range  \\\n",
      "0  @bbclaurak i agree Laura but the Party you see...          [11, 140]   \n",
      "1                              @masturbacaolove Why?           [17, 21]   \n",
      "2  @JackRobinson80 @pgroresearch Yeah not great b...           [30, 65]   \n",
      "3                           Penalty shit out Arsenal                NaN   \n",
      "4                 Obviously need some pen practice 🙈                NaN   \n",
      "\n",
      "                                              source  truncated  \\\n",
      "0  <a href=\"http://twitter.com/download/iphone\" r...       True   \n",
      "1  <a href=\"http://twitter.com/download/iphone\" r...      False   \n",
      "2  <a href=\"http://twitter.com/download/iphone\" r...      False   \n",
      "3  <a href=\"http://twitter.com/download/iphone\" r...      False   \n",
      "4  <a href=\"http://twitter.com/download/iphone\" r...      False   \n",
      "\n",
      "   in_reply_to_status_id  in_reply_to_status_id_str  in_reply_to_user_id  ...  \\\n",
      "0           1.022447e+18               1.022447e+18         6.118357e+07  ...   \n",
      "1           1.021997e+18               1.021997e+18         9.003777e+17  ...   \n",
      "2           1.022444e+18               1.022444e+18         7.355633e+08  ...   \n",
      "3                    NaN                        NaN                  NaN  ...   \n",
      "4                    NaN                        NaN                  NaN  ...   \n",
      "\n",
      "   retweeted filter_level lang            timestamp_ms possibly_sensitive  \\\n",
      "0      False          low   en 2018-07-26 13:39:30.109                NaN   \n",
      "1      False          low  und 2018-07-26 13:39:30.400                NaN   \n",
      "2      False          low   en 2018-07-26 13:39:31.357                NaN   \n",
      "3      False          low   en 2018-07-26 13:39:33.683                NaN   \n",
      "4      False          low   en 2018-07-26 13:39:36.744                NaN   \n",
      "\n",
      "  quoted_status_id  quoted_status_id_str  quoted_status  \\\n",
      "0              NaN                   NaN            NaN   \n",
      "1              NaN                   NaN            NaN   \n",
      "2              NaN                   NaN            NaN   \n",
      "3              NaN                   NaN            NaN   \n",
      "4              NaN                   NaN            NaN   \n",
      "\n",
      "  quoted_status_permalink  extended_entities  \n",
      "0                     NaN                NaN  \n",
      "1                     NaN                NaN  \n",
      "2                     NaN                NaN  \n",
      "3                     NaN                NaN  \n",
      "4                     NaN                NaN  \n",
      "\n",
      "[5 rows x 35 columns]\n",
      "Number of tweets: 5341\n",
      "\n",
      "Columns: Index(['created_at', 'id', 'id_str', 'text', 'display_text_range', 'source',\n",
      "       'truncated', 'in_reply_to_status_id', 'in_reply_to_status_id_str',\n",
      "       'in_reply_to_user_id', 'in_reply_to_user_id_str',\n",
      "       'in_reply_to_screen_name', 'user', 'geo', 'coordinates', 'place',\n",
      "       'contributors', 'is_quote_status', 'extended_tweet', 'quote_count',\n",
      "       'reply_count', 'retweet_count', 'favorite_count', 'entities',\n",
      "       'favorited', 'retweeted', 'filter_level', 'lang', 'timestamp_ms',\n",
      "       'possibly_sensitive', 'quoted_status_id', 'quoted_status_id_str',\n",
      "       'quoted_status', 'quoted_status_permalink', 'extended_entities'],\n",
      "      dtype='object')\n",
      "==============================================================================================================================================\n",
      "Printing the first 5 rows for Paris tweets...\n",
      "                 created_at                   id               id_str  \\\n",
      "0 2018-07-27 17:40:45+00:00  1022899608396156928  1022899608396156928   \n",
      "1 2018-07-27 17:40:47+00:00  1022899613550956544  1022899613550956544   \n",
      "2 2018-07-27 17:40:50+00:00  1022899626041651200  1022899626041651200   \n",
      "3 2018-07-27 17:40:57+00:00  1022899655347249152  1022899655347249152   \n",
      "4 2018-07-27 17:40:57+00:00  1022899656685223936  1022899656685223936   \n",
      "\n",
      "                                                text  \\\n",
      "0  Bulletin météo parisien : des grêlons énormes ...   \n",
      "1  Prêt pour le match #USORCL https://t.co/V5jw0S...   \n",
      "2  MAIS QOIDBDNND'SLS'SLSLLSLS''D DBDODNDNODJDBKD...   \n",
      "3  @ToursFC Où peut on le championnat de National...   \n",
      "4  Les tismey ils sont bas qu’a tromper leur go e...   \n",
      "\n",
      "                                              source  truncated  \\\n",
      "0  <a href=\"http://twitter.com/download/android\" ...      False   \n",
      "1  <a href=\"http://twitter.com/download/iphone\" r...      False   \n",
      "2  <a href=\"http://twitter.com/download/android\" ...      False   \n",
      "3  <a href=\"http://twitter.com/download/android\" ...      False   \n",
      "4  <a href=\"http://twitter.com/download/iphone\" r...      False   \n",
      "\n",
      "   in_reply_to_status_id  in_reply_to_status_id_str  in_reply_to_user_id  \\\n",
      "0                    NaN                        NaN                  NaN   \n",
      "1                    NaN                        NaN                  NaN   \n",
      "2                    NaN                        NaN                  NaN   \n",
      "3           1.022888e+18               1.022888e+18          978599220.0   \n",
      "4                    NaN                        NaN                  NaN   \n",
      "\n",
      "   in_reply_to_user_id_str  ... lang            timestamp_ms  \\\n",
      "0                      NaN  ...   fr 2018-07-27 17:40:45.854   \n",
      "1                      NaN  ...   fr 2018-07-27 17:40:47.083   \n",
      "2                      NaN  ...   in 2018-07-27 17:40:50.061   \n",
      "3              978599220.0  ...   fr 2018-07-27 17:40:57.048   \n",
      "4                      NaN  ...   fr 2018-07-27 17:40:57.367   \n",
      "\n",
      "  display_text_range                                  extended_entities  \\\n",
      "0                NaN                                                NaN   \n",
      "1            [0, 26]  {'media': [{'id': 1022899599336525825, 'id_str...   \n",
      "2           [0, 111]  {'media': [{'id': 1022899571884744706, 'id_str...   \n",
      "3            [9, 50]                                                NaN   \n",
      "4                NaN                                                NaN   \n",
      "\n",
      "  possibly_sensitive  quoted_status_id  quoted_status_id_str  quoted_status  \\\n",
      "0                NaN               NaN                   NaN            NaN   \n",
      "1                0.0               NaN                   NaN            NaN   \n",
      "2                0.0               NaN                   NaN            NaN   \n",
      "3                NaN               NaN                   NaN            NaN   \n",
      "4                NaN               NaN                   NaN            NaN   \n",
      "\n",
      "   quoted_status_permalink  extended_tweet  \n",
      "0                      NaN             NaN  \n",
      "1                      NaN             NaN  \n",
      "2                      NaN             NaN  \n",
      "3                      NaN             NaN  \n",
      "4                      NaN             NaN  \n",
      "\n",
      "[5 rows x 35 columns]\n",
      "\n",
      "Number of tweets: 2510\n",
      "\n",
      "Columns: Index(['created_at', 'id', 'id_str', 'text', 'source', 'truncated',\n",
      "       'in_reply_to_status_id', 'in_reply_to_status_id_str',\n",
      "       'in_reply_to_user_id', 'in_reply_to_user_id_str',\n",
      "       'in_reply_to_screen_name', 'user', 'geo', 'coordinates', 'place',\n",
      "       'contributors', 'is_quote_status', 'quote_count', 'reply_count',\n",
      "       'retweet_count', 'favorite_count', 'entities', 'favorited', 'retweeted',\n",
      "       'filter_level', 'lang', 'timestamp_ms', 'display_text_range',\n",
      "       'extended_entities', 'possibly_sensitive', 'quoted_status_id',\n",
      "       'quoted_status_id_str', 'quoted_status', 'quoted_status_permalink',\n",
      "       'extended_tweet'],\n",
      "      dtype='object')\n",
      "==============================================================================================================================================\n"
     ]
    }
   ],
   "source": [
    "import pandas as pd\n",
    "\n",
    "# New York\n",
    "new_york_df = pd.read_json(\"../data/new_york.json\", lines=True)\n",
    "print(\"Printing the first 5 rows for New York tweets...\")\n",
    "print(new_york_df.head())\n",
    "print()\n",
    "print(f\"Number of tweets: {len(new_york_df)}\")\n",
    "print()\n",
    "print(f\"Columns: {new_york_df.columns}\")\n",
    "print(\"==============================================================================================================================================\")\n",
    "\n",
    "# London\n",
    "london_df = pd.read_json(\"../data/london.json\", lines=True)\n",
    "print(\"Printing the first 5 rows for London tweets...\")\n",
    "print(london_df.head())\n",
    "print(f\"Number of tweets: {len(london_df)}\")\n",
    "print()\n",
    "print(f\"Columns: {london_df.columns}\")\n",
    "print(\"==============================================================================================================================================\")\n",
    "\n",
    "# Paris\n",
    "paris_df = pd.read_json(\"../data/paris.json\", lines=True)\n",
    "print(\"Printing the first 5 rows for Paris tweets...\")\n",
    "print(paris_df.head())\n",
    "print()\n",
    "print(f\"Number of tweets: {len(paris_df)}\")\n",
    "print()\n",
    "print(f\"Columns: {paris_df.columns}\")\n",
    "print(\"==============================================================================================================================================\")"
   ]
  },
  {
   "cell_type": "code",
   "execution_count": 6,
   "id": "1c9d28e0-7a19-47f1-932f-2bc2b75e6010",
   "metadata": {
    "tags": []
   },
   "outputs": [],
   "source": [
    "# Get the texts (tweets) in the form of a list and combine them into one big list.\n",
    "new_york_text = new_york_df[\"text\"].tolist()\n",
    "london_text = london_df[\"text\"].tolist()\n",
    "paris_text = paris_df[\"text\"].tolist()\n",
    "\n",
    "# Label them accordingly:\n",
    "# 0 - New York\n",
    "# 1 - London\n",
    "# 2 - Paris\n",
    "all_texts = new_york_text + london_text + paris_text\n",
    "labels = [0] * len(new_york_text) + [1] * len(london_text) + [2] * len(paris_text)"
   ]
  },
  {
   "cell_type": "markdown",
   "id": "8e7cbed6-e836-4cba-85b7-b970d4f120bb",
   "metadata": {},
   "source": [
    "## Splitting data into training and test sets"
   ]
  },
  {
   "cell_type": "code",
   "execution_count": 7,
   "id": "70324337-6de1-4cca-ae47-7794d83bcc1f",
   "metadata": {
    "tags": []
   },
   "outputs": [
    {
     "name": "stdout",
     "output_type": "stream",
     "text": [
      "10059\n",
      "2515\n"
     ]
    }
   ],
   "source": [
    "from sklearn.model_selection import train_test_split\n",
    "\n",
    "x_train, x_test, y_train, y_test = train_test_split(all_texts, labels, test_size=0.2, random_state=42)\n",
    "\n",
    "print(len(x_train))\n",
    "print(len(x_test))"
   ]
  },
  {
   "cell_type": "markdown",
   "id": "ca6ec93b-82e0-463b-8c2f-27ba2b582083",
   "metadata": {},
   "source": [
    "## Make the count vectors\n",
    "For a Naive Bayes classifier to work, we need to transform our lists of words into count vectors. Count vectors change the sentence \"I love Boston, beautiful Boston\" into a list that contains:\n",
    "\n",
    "- Three `1`s because the words \"I\", \"love\", and \"beautiful\" each appear once.\n",
    "- One `2` because the word \"Boston\" appears twice.\n",
    "- Many `0`s because every other word in the training set didn't appear at all."
   ]
  },
  {
   "cell_type": "code",
   "execution_count": 8,
   "id": "6e53e51a-a4d1-4918-a5e0-e773de716f99",
   "metadata": {
    "tags": []
   },
   "outputs": [
    {
     "name": "stdout",
     "output_type": "stream",
     "text": [
      "Tumbling Dice is on it. Deservedly so https://t.co/o9Det328Sv\n",
      "  (0, 6214)\t1\n",
      "  (0, 7836)\t1\n",
      "  (0, 7997)\t1\n",
      "  (0, 13036)\t1\n",
      "  (0, 13899)\t1\n",
      "  (0, 13942)\t1\n",
      "  (0, 19375)\t1\n",
      "  (0, 19662)\t1\n",
      "  (0, 24929)\t1\n",
      "  (0, 27598)\t1\n"
     ]
    }
   ],
   "source": [
    "from sklearn.feature_extraction.text import CountVectorizer\n",
    "\n",
    "# Count vector\n",
    "counter = CountVectorizer()\n",
    "counter.fit(x_train)\n",
    "train_counts = counter.transform(x_train)\n",
    "test_counts = counter.transform(x_test)\n",
    "\n",
    "# Print to see how a count vector looks like\n",
    "print(x_train[8])\n",
    "print(train_counts[8])"
   ]
  },
  {
   "cell_type": "markdown",
   "id": "a3325ffb-b6ae-45b5-b6dc-e87592b1d414",
   "metadata": {},
   "source": [
    "## Train and test classifier"
   ]
  },
  {
   "cell_type": "code",
   "execution_count": 9,
   "id": "3f7b145c-8024-460d-b264-d20699921431",
   "metadata": {
    "tags": []
   },
   "outputs": [],
   "source": [
    "from sklearn.naive_bayes import MultinomialNB\n",
    "\n",
    "# Fit model and predict\n",
    "classifier = MultinomialNB()\n",
    "classifier.fit(train_counts, y_train)\n",
    "y_pred = classifier.predict(test_counts)"
   ]
  },
  {
   "cell_type": "markdown",
   "id": "001e68c8-85d6-4fe7-8f71-15d3150ef1eb",
   "metadata": {},
   "source": [
    "## Evaluate the model"
   ]
  },
  {
   "cell_type": "code",
   "execution_count": 10,
   "id": "a7d3e6c7-44ec-4a62-83f5-f50fc9b3e816",
   "metadata": {
    "tags": []
   },
   "outputs": [
    {
     "name": "stdout",
     "output_type": "stream",
     "text": [
      "Accuracy score: 71.45%\n",
      "Confusion matrix:\n"
     ]
    },
    {
     "data": {
      "image/png": "[encoded data removed]",
      "text/plain": [
       "<Figure size 600x500 with 1 Axes>"
      ]
     },
     "metadata": {},
     "output_type": "display_data"
    }
   ],
   "source": [
    "from sklearn.metrics import accuracy_score, confusion_matrix\n",
    "import matplotlib.pyplot as plt\n",
    "import seaborn as sns\n",
    "\n",
    "# Accuracy score\n",
    "score = accuracy_score(y_test, y_pred)\n",
    "print(f\"Accuracy score: {round(score * 100, 2)}%\")\n",
    "\n",
    "# Confusion matrix\n",
    "conf_matrix = confusion_matrix(y_test, y_pred)\n",
    "print(\"Confusion matrix:\")\n",
    "plt.figure(figsize=(6, 5))\n",
    "sns.heatmap(conf_matrix, annot=True, fmt=\"d\", cmap=\"Reds\", cbar=False)\n",
    "plt.title(\"Confusion Matrix\")\n",
    "plt.xlabel(\"Predicted\")\n",
    "plt.ylabel(\"Actual\")\n",
    "\n",
    "# Add axis labels\n",
    "plt.xticks(ticks=[0.5, 1.5, 2.5], labels=[\"New York\", \"London\", \"Paris\"])\n",
    "plt.yticks(ticks=[0.5, 1.5, 2.5], labels=[\"New York\", \"London\", \"Paris\"])\n",
    "plt.show()"
   ]
  },
  {
   "cell_type": "markdown",
   "id": "30d08fa8-b354-4662-b312-312beb6ff08e",
   "metadata": {
    "tags": []
   },
   "source": [
    "## Conclusion: \n",
    "As we can see, the classifier predicts tweets that were actually from New York as either New York tweets or London tweets, but almost never Paris tweets. Similarly, the classifier rarely misclassifies the tweets that were actually from Paris. Tweets coming from two English speaking countries are harder to distinguish than tweets in different languages."
   ]
  }
 ],
 "metadata": {
  "kernelspec": {
   "display_name": "Python 3 (ipykernel)",
   "language": "python",
   "name": "python3"
  },
  "language_info": {
   "codemirror_mode": {
    "name": "ipython",
    "version": 3
   },
   "file_extension": ".py",
   "mimetype": "text/x-python",
   "name": "python",
   "nbconvert_exporter": "python",
   "pygments_lexer": "ipython3",
   "version": "3.11.4"
  }
 },
 "nbformat": 4,
 "nbformat_minor": 5
}
