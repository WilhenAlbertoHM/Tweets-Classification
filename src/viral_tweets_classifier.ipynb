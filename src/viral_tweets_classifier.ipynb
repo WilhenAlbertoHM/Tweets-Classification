{
 "cells": [
  {
   "cell_type": "markdown",
   "id": "6d78a63f-eaa9-43a8-a095-593011d74bbd",
   "metadata": {},
   "source": [
    "# Viral Tweet Classifier\n",
    "Create a K-Nearest Neighbor classifier to predict whether a tweet will go viral. "
   ]
  },
  {
   "cell_type": "markdown",
   "id": "c3cce962-8fbb-479f-bfb6-7780599ac345",
   "metadata": {},
   "source": [
    "## Revise tweets"
   ]
  },
  {
   "cell_type": "code",
   "execution_count": 1,
   "id": "ede7ca67-58d6-4f58-89a8-25e5330ba125",
   "metadata": {
    "tags": []
   },
   "outputs": [
    {
     "name": "stdout",
     "output_type": "stream",
     "text": [
      "11099\n",
      "Index(['created_at', 'id', 'id_str', 'text', 'truncated', 'entities',\n",
      "       'metadata', 'source', 'in_reply_to_status_id',\n",
      "       'in_reply_to_status_id_str', 'in_reply_to_user_id',\n",
      "       'in_reply_to_user_id_str', 'in_reply_to_screen_name', 'user', 'geo',\n",
      "       'coordinates', 'place', 'contributors', 'retweeted_status',\n",
      "       'is_quote_status', 'retweet_count', 'favorite_count', 'favorited',\n",
      "       'retweeted', 'lang', 'possibly_sensitive', 'quoted_status_id',\n",
      "       'quoted_status_id_str', 'extended_entities', 'quoted_status',\n",
      "       'withheld_in_countries'],\n",
      "      dtype='object')\n",
      "RT @KWWLStormTrack7: We are more than a month into summer but the days are getting shorter. The sunrise is about 25 minutes later on July 3…\n",
      "{'id': 145388018, 'id_str': '145388018', 'name': 'Derek Wolkenhauer', 'screen_name': 'derekw221', 'location': 'Waterloo, Iowa', 'description': '', 'url': None, 'entities': {'description': {'urls': []}}, 'protected': False, 'followers_count': 215, 'friends_count': 335, 'listed_count': 2, 'created_at': 'Tue May 18 21:30:10 +0000 2010', 'favourites_count': 3419, 'utc_offset': None, 'time_zone': None, 'geo_enabled': True, 'verified': False, 'statuses_count': 4475, 'lang': 'en', 'contributors_enabled': False, 'is_translator': False, 'is_translation_enabled': False, 'profile_background_color': '022330', 'profile_background_image_url': 'http://abs.twimg.com/images/themes/theme15/bg.png', 'profile_background_image_url_https': 'https://abs.twimg.com/images/themes/theme15/bg.png', 'profile_background_tile': False, 'profile_image_url': 'http://pbs.twimg.com/profile_images/995790590276243456/cgxRVviN_normal.jpg', 'profile_image_url_https': 'https://pbs.twimg.com/profile_images/995790590276243456/cgxRVviN_normal.jpg', 'profile_banner_url': 'https://pbs.twimg.com/profile_banners/145388018/1494937921', 'profile_link_color': '0084B4', 'profile_sidebar_border_color': 'A8C7F7', 'profile_sidebar_fill_color': 'C0DFEC', 'profile_text_color': '333333', 'profile_use_background_image': True, 'has_extended_profile': True, 'default_profile': False, 'default_profile_image': False, 'following': False, 'follow_request_sent': False, 'notifications': False, 'translator_type': 'none'}\n",
      "Waterloo, Iowa\n"
     ]
    }
   ],
   "source": [
    "import pandas as pd\n",
    "\n",
    "all_tweets_df = pd.read_json(\"../data/random_tweets.json\", lines=True)\n",
    "\n",
    "print(len(all_tweets_df))\n",
    "print(all_tweets_df.columns)\n",
    "print(all_tweets_df.loc[0][\"text\"])\n",
    "\n",
    "# Print the user and its location.\n",
    "print(all_tweets_df.loc[0][\"user\"])\n",
    "print(all_tweets_df.loc[0][\"user\"][\"location\"])"
   ]
  },
  {
   "cell_type": "markdown",
   "id": "ef6e4895-1f2b-4e52-b0e1-d6a17846188a",
   "metadata": {},
   "source": [
    "## Defining viral tweets"
   ]
  },
  {
   "cell_type": "code",
   "execution_count": 2,
   "id": "580af298-dd69-407e-b92b-80135d84307d",
   "metadata": {
    "tags": []
   },
   "outputs": [
    {
     "name": "stdout",
     "output_type": "stream",
     "text": [
      "Median number of retweets: 13.0\n",
      "1    5591\n",
      "0    5508\n",
      "Name: is_viral, dtype: int64\n"
     ]
    }
   ],
   "source": [
    "import numpy as np\n",
    "\n",
    "median_num_retweets = all_tweets_df[\"retweet_count\"].median()\n",
    "print(f\"Median number of retweets: {median_num_retweets}\")\n",
    "all_tweets_df[\"is_viral\"] = np.where(all_tweets_df[\"retweet_count\"] >= median_num_retweets, 1, 0)\n",
    "print(all_tweets_df[\"is_viral\"].value_counts())"
   ]
  },
  {
   "cell_type": "markdown",
   "id": "d416dcb5-d34e-4c2a-b770-4883a7f36bcc",
   "metadata": {},
   "source": [
    "## Making features"
   ]
  },
  {
   "cell_type": "code",
   "execution_count": 3,
   "id": "750c31ed-5b91-4282-9bf9-dcde2a9db728",
   "metadata": {
    "tags": []
   },
   "outputs": [],
   "source": [
    "# Get the length of a tweet, number of followers, and number of friends.\n",
    "all_tweets_df[\"tweet_length\"] = all_tweets_df.apply(lambda tweet: len(tweet[\"text\"]), axis=1)\n",
    "all_tweets_df[\"followers_count\"] = all_tweets_df.apply(lambda tweet: tweet[\"user\"][\"followers_count\"], axis=1)\n",
    "all_tweets_df[\"friends_count\"] = all_tweets_df.apply(lambda tweet: tweet[\"user\"][\"friends_count\"], axis=1)"
   ]
  },
  {
   "cell_type": "markdown",
   "id": "d43adb94-3646-4768-9db2-53608c3a617f",
   "metadata": {},
   "source": [
    "## Normalizing the data"
   ]
  },
  {
   "cell_type": "code",
   "execution_count": 4,
   "id": "81d5af15-8aba-45f2-9285-4262b434d813",
   "metadata": {
    "tags": []
   },
   "outputs": [
    {
     "name": "stdout",
     "output_type": "stream",
     "text": [
      "[ 0.6164054  -0.02878298 -0.14483305]\n"
     ]
    }
   ],
   "source": [
    "from sklearn.preprocessing import scale\n",
    "\n",
    "labels = all_tweets_df[\"is_viral\"]\n",
    "data = all_tweets_df[[\"tweet_length\", \"followers_count\", \"friends_count\"]]\n",
    "scaled_data = scale(data, axis=0)\n",
    "print(scaled_data[0])"
   ]
  },
  {
   "cell_type": "markdown",
   "id": "5e6a65de-b2ed-42f5-bad6-d8d5355ba8f9",
   "metadata": {},
   "source": [
    "## Splitting the data into training and testing set"
   ]
  },
  {
   "cell_type": "code",
   "execution_count": 5,
   "id": "dd487993-b2d7-4592-93d6-e87b10420680",
   "metadata": {
    "tags": []
   },
   "outputs": [
    {
     "name": "stdout",
     "output_type": "stream",
     "text": [
      "8879\n",
      "2220\n"
     ]
    }
   ],
   "source": [
    "from sklearn.model_selection import train_test_split\n",
    "x_train, x_test, y_train, y_test = train_test_split(scaled_data, labels, test_size=0.2, random_state=42)\n",
    "\n",
    "print(len(x_train))\n",
    "print(len(x_test))"
   ]
  },
  {
   "cell_type": "markdown",
   "id": "cb4c47be-fd0f-45dc-b0fe-c87115146979",
   "metadata": {},
   "source": [
    "## Fit the classifier and show model's score"
   ]
  },
  {
   "cell_type": "code",
   "execution_count": 6,
   "id": "d0cb37f5-be3f-4976-826b-c4b3c576b55d",
   "metadata": {
    "tags": []
   },
   "outputs": [
    {
     "name": "stdout",
     "output_type": "stream",
     "text": [
      "Accuracy score: 59.01%\n"
     ]
    }
   ],
   "source": [
    "from sklearn.neighbors import KNeighborsClassifier\n",
    "\n",
    "classifier = KNeighborsClassifier(n_neighbors=5)\n",
    "classifier.fit(x_train, y_train)\n",
    "score = classifier.score(x_test, y_test)\n",
    "print(f\"Accuracy score: {round(score * 100, 2)}%\")"
   ]
  },
  {
   "cell_type": "markdown",
   "id": "3eb422f1-0a62-4769-a8d0-385c05406c70",
   "metadata": {},
   "source": [
    "## Find the best score from differing number of neighbors"
   ]
  },
  {
   "cell_type": "code",
   "execution_count": 9,
   "id": "15dbbd8b-1476-4419-9a6e-2c7434412d53",
   "metadata": {
    "tags": []
   },
   "outputs": [
    {
     "data": {
      "image/png": "[encoded data removed]",
      "text/plain": [
       "<Figure size 640x480 with 1 Axes>"
      ]
     },
     "metadata": {},
     "output_type": "display_data"
    }
   ],
   "source": [
    "import matplotlib.pyplot as plt\n",
    "\n",
    "scores = []\n",
    "for k in range(1, 200):\n",
    "    classifier = KNeighborsClassifier(n_neighbors=k)\n",
    "    classifier.fit(x_train, y_train)\n",
    "    score = classifier.score(x_test, y_test)\n",
    "    scores.append(score)\n",
    "plt.plot(range(1, 200), [score * 100 for score in scores])\n",
    "plt.title(\"Number of Neighbors vs. Accuracy Score\")\n",
    "plt.xlabel(\"Number of Neighbors\")\n",
    "plt.ylabel(\"Accuracy Score (%)\")\n",
    "plt.show()"
   ]
  },
  {
   "cell_type": "markdown",
   "id": "354fb0e2-56e9-4d2d-879d-e05ca92f0beb",
   "metadata": {},
   "source": [
    "## Conclusion\n",
    "As shown in the graph, we can choose the appropriate number of neighbors from the accuracy score, making sure our model does not underfit if we choose a high k value."
   ]
  }
 ],
 "metadata": {
  "kernelspec": {
   "display_name": "Python 3 (ipykernel)",
   "language": "python",
   "name": "python3"
  },
  "language_info": {
   "codemirror_mode": {
    "name": "ipython",
    "version": 3
   },
   "file_extension": ".py",
   "mimetype": "text/x-python",
   "name": "python",
   "nbconvert_exporter": "python",
   "pygments_lexer": "ipython3",
   "version": "3.11.4"
  }
 },
 "nbformat": 4,
 "nbformat_minor": 5
}
